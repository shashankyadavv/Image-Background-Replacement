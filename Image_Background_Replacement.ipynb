{
  "nbformat": 4,
  "nbformat_minor": 0,
  "metadata": {
    "colab": {
      "provenance": [],
      "gpuType": "T4"
    },
    "kernelspec": {
      "name": "python3",
      "display_name": "Python 3"
    },
    "language_info": {
      "name": "python"
    },
    "accelerator": "GPU"
  },
  "cells": [
    {
      "cell_type": "code",
      "source": [
        "!pip install rembg\n",
        "!pip install onnxruntime\n",
        "from rembg import remove\n",
        "import requests\n",
        "from PIL import Image\n",
        "from io import BytesIO\n",
        "import os"
      ],
      "metadata": {
        "id": "qENp0mFOe9lM"
      },
      "execution_count": null,
      "outputs": []
    },
    {
      "cell_type": "code",
      "source": [
        "os.makedirs('Original')\n",
        "os.makedirs('Masked')"
      ],
      "metadata": {
        "id": "IfBMy6vAfjmI"
      },
      "execution_count": 11,
      "outputs": []
    },
    {
      "cell_type": "code",
      "source": [
        "image = 'https://www.worldanimalprotection.ca/cdn-cgi/image/width=1280,format=auto/siteassets/shutterstock_2461984615.jpg'\n",
        "image_name = image.replace(image,'Lion.jpeg')\n",
        "image_name"
      ],
      "metadata": {
        "colab": {
          "base_uri": "https://localhost:8080/",
          "height": 35
        },
        "id": "JmLOkzUKfjkP",
        "outputId": "90a6d792-cbb5-49dc-bc96-aa897ce7026e"
      },
      "execution_count": 17,
      "outputs": [
        {
          "output_type": "execute_result",
          "data": {
            "text/plain": [
              "'Lion.jpeg'"
            ],
            "application/vnd.google.colaboratory.intrinsic+json": {
              "type": "string"
            }
          },
          "metadata": {},
          "execution_count": 17
        }
      ]
    },
    {
      "cell_type": "code",
      "source": [
        "img = Image.open(BytesIO(requests.get(image).content))\n",
        "img.save('/content/Original/'+ image_name)\n"
      ],
      "metadata": {
        "id": "iPB4swH2fjh3"
      },
      "execution_count": 22,
      "outputs": []
    }
  ]
}